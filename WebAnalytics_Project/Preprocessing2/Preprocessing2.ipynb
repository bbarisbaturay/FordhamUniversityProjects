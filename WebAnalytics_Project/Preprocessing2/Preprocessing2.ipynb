{
 "cells": [
  {
   "cell_type": "code",
   "execution_count": 1,
   "metadata": {},
   "outputs": [],
   "source": [
    "import pandas as pd \n",
    "import matplotlib.pyplot as plt\n",
    "import pandas as pd \n",
    "from pandas_datareader import data as pdr\n",
    "import pandas_datareader.data as web\n",
    "import datetime as dt\n",
    "import seaborn as sns"
   ]
  },
  {
   "cell_type": "code",
   "execution_count": 2,
   "metadata": {},
   "outputs": [],
   "source": [
    "\"\"\"\n",
    "rev_ford = pd.read_excel('Ford Revenue by Quarter.xlsx')\n",
    "rev_toyota = pd.read_excel('Toyota Revenue by Quarter.xlsx')\n",
    "rev_ford.Value= rev_ford.Value.apply(lambda x: float(x[:-1])*10**9)\n",
    "rev_toyota.Value= rev_toyota.Value.apply(lambda x: float(x[:-1])*10**9)\n",
    "\"\"\"\n",
    "start = dt.datetime(2000,1,1)\n",
    "end = dt.datetime.now()\n",
    "\n",
    "stock_ford =pdr.get_data_yahoo('F',start,end)\n",
    "stock_toyota = pdr.get_data_yahoo('TM',start,end)\n",
    "stock_ford = stock_ford.groupby(pd.PeriodIndex(stock_ford.index, freq='M')).Close.mean()\n",
    "stock_toyota = stock_toyota.groupby(pd.PeriodIndex(stock_toyota.index, freq='M')).Close.mean()\n",
    "\n",
    "e_toyota = pd.read_csv(\"employeetoyotasentiment.csv\")\n",
    "c_toyota= pd.read_csv(\"consumertoyotasentiment.csv\")\n",
    "toyota = e_toyota.append(c_toyota).sort_index()\n",
    "c_ford = pd.read_csv('consumerfordsentiment.csv')\n",
    "e_ford= pd.read_csv(\"employeefordsentiment.csv\")\n",
    "ford = e_ford.append(c_ford).sort_index()\n",
    "e_toyota = pd.read_csv(\"employeetoyotasentiment.csv\")\n",
    "\n"
   ]
  },
  {
   "cell_type": "code",
   "execution_count": 3,
   "metadata": {},
   "outputs": [
    {
     "data": {
      "text/plain": [
       "9756"
      ]
     },
     "execution_count": 3,
     "metadata": {},
     "output_type": "execute_result"
    }
   ],
   "source": [
    "e_toyota = pd.read_csv(\"employeetoyotasentiment.csv\")\n",
    "len(e_toyota)"
   ]
  },
  {
   "cell_type": "code",
   "execution_count": 4,
   "metadata": {},
   "outputs": [],
   "source": [
    "sent = []\n",
    "\n",
    "for i in range(len(e_toyota)):\n",
    "    comp = e_toyota.iloc[i]['compound']\n",
    "\n",
    "    if (comp >= -0.05) & (comp <= 0.05):\n",
    "        sent.append('neu')\n",
    "    elif comp > 0.5:\n",
    "        sent.append('pos')\n",
    "    else:\n",
    "        sent.append('neg')\n",
    "        \n",
    "e_toyota['sentiment'] = sent\n",
    "e_toyota.drop(columns=['positive','negative','neutral'],inplace=True)\n",
    "total_comment = e_toyota.groupby(pd.PeriodIndex(e_toyota.date, freq='M')).review.count()\n",
    "mean_comp = e_toyota.groupby(pd.PeriodIndex(e_toyota.date, freq='M')).compound.mean()\n",
    "mean_sents = e_toyota.groupby(pd.PeriodIndex(e_toyota.date, freq='M'))['sentiment'].value_counts().unstack().fillna(0)[['neg','neu','pos']]\n",
    "mean_rating = e_toyota.groupby(pd.PeriodIndex(e_toyota.date, freq='M')).rating.mean()\n",
    "e_toyota = pd.DataFrame(mean_rating).join(mean_sents, lsuffix='_caller', rsuffix='_other')\n",
    "e_toyota = e_toyota.join(mean_comp,lsuffix='_caller', rsuffix='_other')\n",
    "e_toyota = e_toyota.join(total_comment,lsuffix='_caller', rsuffix='_other')\n",
    "e_toyota.columns = ['AvgRate','NegRevCount','NeuRevCount','PosRevCount','AvgCompound','TotalRevCount']\n",
    "e_toyota['PercPos'] = (e_toyota.PosRevCount / e_toyota.TotalRevCount)\n",
    "e_toyota = e_toyota.join(pd.DataFrame(stock_toyota))\n",
    "c_toyota= pd.read_csv(\"consumertoyotasentiment.csv\")\n",
    "\n",
    "sent = []\n",
    "\n",
    "for i in range(len(c_toyota)):\n",
    "    comp = c_toyota.iloc[i]['compound']\n",
    "\n",
    "    if (comp >= -0.05) & (comp <= 0.05):\n",
    "        sent.append('neu')\n",
    "    elif comp > 0.5:\n",
    "        sent.append('pos')\n",
    "    else:\n",
    "        sent.append('neg')\n",
    "        \n",
    "c_toyota['sentiment'] = sent\n",
    "c_toyota.drop(columns=['positive','negative','neutral'],inplace=True)\n",
    "total_comment = c_toyota.groupby(pd.PeriodIndex(c_toyota.date, freq='M')).review.count()\n",
    "mean_comp = c_toyota.groupby(pd.PeriodIndex(c_toyota.date, freq='M')).compound.mean()\n",
    "mean_sents = c_toyota.groupby(pd.PeriodIndex(c_toyota.date, freq='M'))['sentiment'].value_counts().unstack().fillna(0)[['neg','neu','pos']]\n",
    "mean_rating = c_toyota.groupby(pd.PeriodIndex(c_toyota.date, freq='M')).rating.mean()\n",
    "c_toyota = pd.DataFrame(mean_rating).join(mean_sents, lsuffix='_caller', rsuffix='_other')\n",
    "c_toyota = c_toyota.join(mean_comp,lsuffix='_caller', rsuffix='_other')\n",
    "c_toyota = c_toyota.join(total_comment,lsuffix='_caller', rsuffix='_other')\n",
    "c_toyota.columns = ['AvgRate','NegRevCount','NeuRevCount','PosRevCount','AvgCompound','TotalRevCount']\n",
    "c_toyota['PercPos'] = (c_toyota.PosRevCount / c_toyota.TotalRevCount)\n",
    "c_toyota = c_toyota.join(pd.DataFrame(stock_toyota))"
   ]
  },
  {
   "cell_type": "code",
   "execution_count": 5,
   "metadata": {},
   "outputs": [],
   "source": [
    "sent = []\n",
    "\n",
    "for i in range(len(e_ford)):\n",
    "    comp = e_ford.iloc[i]['compound']\n",
    "\n",
    "    if (comp >= -0.05) & (comp <= 0.05):\n",
    "        sent.append('neu')\n",
    "    elif comp > 0.5:\n",
    "        sent.append('pos')\n",
    "    else:\n",
    "        sent.append('neg')\n",
    "        \n",
    "e_ford['sentiment'] = sent\n",
    "e_ford.drop(columns=['positive','negative','neutral'],inplace=True)\n",
    "total_comment = e_ford.groupby(pd.PeriodIndex(e_ford.date, freq='M')).review.count()\n",
    "mean_comp = e_ford.groupby(pd.PeriodIndex(e_ford.date, freq='M')).compound.mean()\n",
    "mean_sents = e_ford.groupby(pd.PeriodIndex(e_ford.date, freq='M'))['sentiment'].value_counts().unstack().fillna(0)[['neg','neu','pos']]\n",
    "mean_rating = e_ford.groupby(pd.PeriodIndex(e_ford.date, freq='M')).rating.mean()\n",
    "e_ford = pd.DataFrame(mean_rating).join(mean_sents, lsuffix='_caller', rsuffix='_other')\n",
    "e_ford = e_ford.join(mean_comp,lsuffix='_caller', rsuffix='_other')\n",
    "e_ford = e_ford.join(total_comment,lsuffix='_caller', rsuffix='_other')\n",
    "e_ford.columns = ['AvgRate','NegRevCount','NeuRevCount','PosRevCount','AvgCompound','TotalRevCount']\n",
    "e_ford['PercPos'] = (e_ford.PosRevCount / e_ford.TotalRevCount)\n",
    "e_ford = e_ford.join(pd.DataFrame(stock_ford))\n",
    "\n",
    "sent = []\n",
    "\n",
    "for i in range(len(c_ford)):\n",
    "    comp = c_ford.iloc[i]['compound']\n",
    "\n",
    "    if (comp >= -0.05) & (comp <= 0.05):\n",
    "        sent.append('neu')\n",
    "    elif comp > 0.5:\n",
    "        sent.append('pos')\n",
    "    else:\n",
    "        sent.append('neg')\n",
    "        \n",
    "c_ford['sentiment'] = sent\n",
    "c_ford.drop(columns=['positive','negative','neutral'],inplace=True)\n",
    "total_comment = c_ford.groupby(pd.PeriodIndex(c_ford.date, freq='M')).review.count()\n",
    "mean_comp = c_ford.groupby(pd.PeriodIndex(c_ford.date, freq='M')).compound.mean()\n",
    "mean_sents = c_ford.groupby(pd.PeriodIndex(c_ford.date, freq='M'))['sentiment'].value_counts().unstack().fillna(0)[['neg','neu','pos']]\n",
    "mean_rating = c_ford.groupby(pd.PeriodIndex(c_ford.date, freq='M')).rating.mean()\n",
    "c_ford = pd.DataFrame(mean_rating).join(mean_sents, lsuffix='_caller', rsuffix='_other')\n",
    "c_ford = c_ford.join(mean_comp,lsuffix='_caller', rsuffix='_other')\n",
    "c_ford = c_ford.join(total_comment,lsuffix='_caller', rsuffix='_other')\n",
    "c_ford.columns = ['AvgRate','NegRevCount','NeuRevCount','PosRevCount','AvgCompound','TotalRevCount']\n",
    "c_ford['PercPos'] = (c_ford.PosRevCount / c_ford.TotalRevCount)\n",
    "c_ford = c_ford.join(pd.DataFrame(stock_ford))"
   ]
  },
  {
   "cell_type": "code",
   "execution_count": 6,
   "metadata": {},
   "outputs": [],
   "source": [
    "sent = []\n",
    "\n",
    "for i in range(len(ford)):\n",
    "    comp = ford.iloc[i]['compound']\n",
    "\n",
    "    if (comp >= -0.05) & (comp <= 0.05):\n",
    "        sent.append('neu')\n",
    "    elif comp > 0.5:\n",
    "        sent.append('pos')\n",
    "    else:\n",
    "        sent.append('neg')\n",
    "        \n",
    "ford['sentiment'] = sent\n",
    "ford.drop(columns=['positive','negative','neutral'],inplace=True)\n",
    "total_comment = ford.groupby(pd.PeriodIndex(ford.date, freq='M')).review.count()\n",
    "mean_comp = ford.groupby(pd.PeriodIndex(ford.date, freq='M')).compound.mean()\n",
    "mean_sents = ford.groupby(pd.PeriodIndex(ford.date, freq='M'))['sentiment'].value_counts().unstack().fillna(0)[['neg','neu','pos']]\n",
    "mean_rating = ford.groupby(pd.PeriodIndex(ford.date, freq='M')).rating.mean()\n",
    "ford = pd.DataFrame(mean_rating).join(mean_sents, lsuffix='_caller', rsuffix='_other')\n",
    "ford = ford.join(mean_comp,lsuffix='_caller', rsuffix='_other')\n",
    "ford = ford.join(total_comment,lsuffix='_caller', rsuffix='_other')\n",
    "ford.columns = ['AvgRate','NegRevCount','NeuRevCount','PosRevCount','AvgCompound','TotalRevCount']\n",
    "ford['PercPos'] = (ford.PosRevCount / ford.TotalRevCount)\n",
    "ford = ford.join(pd.DataFrame(stock_ford))\n",
    "\n",
    "sent = []\n",
    "\n",
    "for i in range(len(toyota)):\n",
    "    comp = toyota.iloc[i]['compound']\n",
    "\n",
    "    if (comp >= -0.05) & (comp <= 0.05):\n",
    "        sent.append('neu')\n",
    "    elif comp > 0.5:\n",
    "        sent.append('pos')\n",
    "    else:\n",
    "        sent.append('neg')\n",
    "        \n",
    "toyota['sentiment'] = sent\n",
    "toyota.drop(columns=['positive','negative','neutral'],inplace=True)\n",
    "total_comment = toyota.groupby(pd.PeriodIndex(toyota.date, freq='M')).review.count()\n",
    "mean_comp = toyota.groupby(pd.PeriodIndex(toyota.date, freq='M')).compound.mean()\n",
    "mean_sents = toyota.groupby(pd.PeriodIndex(toyota.date, freq='M'))['sentiment'].value_counts().unstack().fillna(0)[['neg','neu','pos']]\n",
    "mean_rating = toyota.groupby(pd.PeriodIndex(toyota.date, freq='M')).rating.mean()\n",
    "toyota = pd.DataFrame(mean_rating).join(mean_sents, lsuffix='_caller', rsuffix='_other')\n",
    "toyota = toyota.join(mean_comp,lsuffix='_caller', rsuffix='_other')\n",
    "toyota = toyota.join(total_comment,lsuffix='_caller', rsuffix='_other')\n",
    "toyota.columns = ['AvgRate','NegRevCount','NeuRevCount','PosRevCount','AvgCompound','TotalRevCount']\n",
    "toyota['PercPos'] = (toyota.PosRevCount / toyota.TotalRevCount)\n",
    "toyota = toyota.join(pd.DataFrame(stock_toyota))"
   ]
  },
  {
   "cell_type": "code",
   "execution_count": 7,
   "metadata": {},
   "outputs": [
    {
     "data": {
      "text/plain": [
       "\"\\nrev_ford['date'] = ford.index\\nrev_ford = rev_ford.drop(columns=['Date'])\\nrev_ford = rev_ford.set_index('date')\\nrev_ford.columns = ['Revenue']\\nford = ford.join(rev_ford)\\n\\nrev_toyota['date'] = ford.index\\nrev_toyota = rev_toyota.drop(columns=['Date'])\\nrev_toyota = rev_toyota.set_index('date')\\nrev_toyota.columns = ['Revenue']\\ntoyota = toyota.join(rev_toyota)\\n\\nc_toyota = c_toyota.join(rev_toyota)\\ne_toyota = e_toyota.join(rev_toyota)\\nc_ford = c_ford.join(rev_ford)\\ne_ford = e_ford.join(rev_ford)\\n\""
      ]
     },
     "execution_count": 7,
     "metadata": {},
     "output_type": "execute_result"
    }
   ],
   "source": [
    "\"\"\"\n",
    "rev_ford['date'] = ford.index\n",
    "rev_ford = rev_ford.drop(columns=['Date'])\n",
    "rev_ford = rev_ford.set_index('date')\n",
    "rev_ford.columns = ['Revenue']\n",
    "ford = ford.join(rev_ford)\n",
    "\n",
    "rev_toyota['date'] = ford.index\n",
    "rev_toyota = rev_toyota.drop(columns=['Date'])\n",
    "rev_toyota = rev_toyota.set_index('date')\n",
    "rev_toyota.columns = ['Revenue']\n",
    "toyota = toyota.join(rev_toyota)\n",
    "\n",
    "c_toyota = c_toyota.join(rev_toyota)\n",
    "e_toyota = e_toyota.join(rev_toyota)\n",
    "c_ford = c_ford.join(rev_ford)\n",
    "e_ford = e_ford.join(rev_ford)\n",
    "\"\"\""
   ]
  },
  {
   "cell_type": "code",
   "execution_count": 8,
   "metadata": {},
   "outputs": [],
   "source": [
    "f_fama = pd.read_csv('FordFama.csv')\n",
    "t_fama = pd.read_csv('ToyotaFama.csv')"
   ]
  },
  {
   "cell_type": "code",
   "execution_count": 9,
   "metadata": {},
   "outputs": [],
   "source": [
    "f_fama = pd.read_csv('FordFama.csv')\n",
    "t_fama = pd.read_csv('ToyotaFama.csv')\n",
    "f_fama.columns = ['date','F','Mkt-RF','SMB','HML','RF','F_RF']\n",
    "f_fama.drop(columns=['F','F_RF','RF'],inplace=True)\n",
    "t_fama.columns = ['date','TM','Mkt-RF','SMB','HML','RF','TM_RF']\n",
    "t_fama.drop(columns=['TM','RF','TM_RF'],inplace=True)\n",
    "f = {'Mkt-RF': 'mean', 'SMB': 'mean', 'HML': 'mean'}\n",
    "t_fama = t_fama.groupby(pd.PeriodIndex(t_fama.date, freq='M')).agg(f)\n",
    "f_fama = f_fama.groupby(pd.PeriodIndex(f_fama.date, freq='M')).agg(f)\n",
    "\n",
    "toyota = toyota.join(t_fama)\n",
    "ford = ford.join(f_fama)\n",
    "\n"
   ]
  },
  {
   "cell_type": "code",
   "execution_count": 10,
   "metadata": {},
   "outputs": [],
   "source": [
    "toyota_s = pd.read_excel('mtoyotasales.xlsx')\n",
    "toyota_s = toyota_s.set_index('year')\n",
    "\n",
    "t_sales = []\n",
    "\n",
    "for i in range(0,17):\n",
    "    for j in range(0,12):\n",
    "        t_sales.append(toyota_s.iloc[i,j])\n",
    "\n",
    "datetime_series = pd.Series(\n",
    "    pd.date_range(\"2005-01-01\", periods=204, freq=\"M\")\n",
    ")\n",
    "\n",
    "t_sales = pd.concat([datetime_series, pd.Series(t_sales)],axis=1)\n",
    "\n",
    "t_sales.columns = ['date','sales']\n",
    "t_sales = t_sales.set_index('date')\n",
    "\n",
    "t_sales = t_sales.groupby(pd.PeriodIndex(t_sales.index, freq='M')).sales.sum()\n",
    "toyota = toyota.join(pd.DataFrame(t_sales))\n",
    "\n",
    "ford_s = pd.read_excel('mfordsales.xlsx')\n",
    "ford_s = ford_s.set_index('year')\n",
    "\n",
    "f_sales = []\n",
    "\n",
    "for i in range(0,17):\n",
    "    for j in range(0,12):\n",
    "        f_sales.append(ford_s.iloc[i,j])\n",
    "\n",
    "datetime_series = pd.Series(\n",
    "    pd.date_range(\"2005-01-01\", periods=204, freq=\"M\")\n",
    ")\n",
    "\n",
    "f_sales = pd.concat([datetime_series, pd.Series(f_sales)],axis=1)\n",
    "\n",
    "f_sales.columns = ['date','sales']\n",
    "f_sales = f_sales.set_index('date')\n",
    "\n",
    "f_sales = f_sales.groupby(pd.PeriodIndex(f_sales.index, freq='M')).sales.sum()\n",
    "ford = ford.join(pd.DataFrame(f_sales))"
   ]
  },
  {
   "cell_type": "code",
   "execution_count": 11,
   "metadata": {},
   "outputs": [],
   "source": [
    "c_ford = c_ford.join(pd.DataFrame(f_sales))\n",
    "e_ford = e_ford.join(pd.DataFrame(f_sales))\n",
    "c_toyota = c_toyota.join(pd.DataFrame(t_sales))\n",
    "e_toyota = e_toyota.join(pd.DataFrame(t_sales))\n"
   ]
  },
  {
   "cell_type": "code",
   "execution_count": 12,
   "metadata": {},
   "outputs": [
    {
     "data": {
      "text/plain": [
       "\"\\ntoyota.to_excel('C:\\\\Users\\\\baris.baturay\\\\Desktop\\\\Fordham\\\\Web Analytics\\\\Project\\\\BeforeML\\\\TOYOTA_monthly.xlsx')\\nford.to_excel('C:\\\\Users\\\\baris.baturay\\\\Desktop\\\\Fordham\\\\Web Analytics\\\\Project\\\\BeforeML\\\\FORD_monthly.xlsx')\\nc_ford.to_excel('C:\\\\Users\\\\baris.baturay\\\\Desktop\\\\Fordham\\\\Web Analytics\\\\Project\\\\BeforeML\\\\cFord_monhtly.xlsx')\\ne_ford.to_excel('C:\\\\Users\\\\baris.baturay\\\\Desktop\\\\Fordham\\\\Web Analytics\\\\Project\\\\BeforeML\\\\eFord_monthly.xlsx')\\nc_toyota.to_excel('C:\\\\Users\\\\baris.baturay\\\\Desktop\\\\Fordham\\\\Web Analytics\\\\Project\\\\BeforeML\\\\cToyota_monthly.xlsx')\\ne_toyota.to_excel('C:\\\\Users\\\\baris.baturay\\\\Desktop\\\\Fordham\\\\Web Analytics\\\\Project\\\\BeforeML\\\\eToyota_monthly.xlsx')\\n\""
      ]
     },
     "execution_count": 12,
     "metadata": {},
     "output_type": "execute_result"
    }
   ],
   "source": [
    "\"\"\"\n",
    "toyota.to_excel('C:\\\\Users\\\\baris.baturay\\\\Desktop\\\\Fordham\\\\Web Analytics\\\\Project\\\\BeforeML\\\\TOYOTA_monthly.xlsx')\n",
    "ford.to_excel('C:\\\\Users\\\\baris.baturay\\\\Desktop\\\\Fordham\\\\Web Analytics\\\\Project\\\\BeforeML\\\\FORD_monthly.xlsx')\n",
    "c_ford.to_excel('C:\\\\Users\\\\baris.baturay\\\\Desktop\\\\Fordham\\\\Web Analytics\\\\Project\\\\BeforeML\\\\cFord_monhtly.xlsx')\n",
    "e_ford.to_excel('C:\\\\Users\\\\baris.baturay\\\\Desktop\\\\Fordham\\\\Web Analytics\\\\Project\\\\BeforeML\\\\eFord_monthly.xlsx')\n",
    "c_toyota.to_excel('C:\\\\Users\\\\baris.baturay\\\\Desktop\\\\Fordham\\\\Web Analytics\\\\Project\\\\BeforeML\\\\cToyota_monthly.xlsx')\n",
    "e_toyota.to_excel('C:\\\\Users\\\\baris.baturay\\\\Desktop\\\\Fordham\\\\Web Analytics\\\\Project\\\\BeforeML\\\\eToyota_monthly.xlsx')\n",
    "\"\"\"\n"
   ]
  },
  {
   "cell_type": "code",
   "execution_count": 18,
   "metadata": {},
   "outputs": [
    {
     "data": {
      "text/plain": [
       "<AxesSubplot:title={'center':'Ford Corralation Heat Map'}>"
      ]
     },
     "execution_count": 18,
     "metadata": {},
     "output_type": "execute_result"
    },
    {
     "data": {
      "image/png": "[encoded data removed]",
      "text/plain": [
       "<Figure size 1080x720 with 2 Axes>"
      ]
     },
     "metadata": {
      "needs_background": "light"
     },
     "output_type": "display_data"
    }
   ],
   "source": [
    "plt.figure(figsize=(15,10))\n",
    "plt.title('Ford Corralation Heat Map')\n",
    "sns.heatmap(ford.dropna(how='any').corr()[['Close','sales']],annot= True,cmap='Blues')"
   ]
  },
  {
   "cell_type": "code",
   "execution_count": 17,
   "metadata": {},
   "outputs": [
    {
     "data": {
      "text/plain": [
       "<AxesSubplot:title={'center':'Toyota Corralation Heat Map'}>"
      ]
     },
     "execution_count": 17,
     "metadata": {},
     "output_type": "execute_result"
    },
    {
     "data": {
      "image/png": "[encoded data removed]",
      "text/plain": [
       "<Figure size 1080x720 with 2 Axes>"
      ]
     },
     "metadata": {
      "needs_background": "light"
     },
     "output_type": "display_data"
    }
   ],
   "source": [
    "plt.figure(figsize=(15,10))\n",
    "plt.title('Toyota Corralation Heat Map')\n",
    "sns.heatmap(toyota.dropna(how='any').corr()[['Close','sales']],annot= True,cmap='Greens')"
   ]
  },
  {
   "cell_type": "code",
   "execution_count": 24,
   "metadata": {},
   "outputs": [
    {
     "data": {
      "text/html": [
       "<div>\n",
       "<style scoped>\n",
       "    .dataframe tbody tr th:only-of-type {\n",
       "        vertical-align: middle;\n",
       "    }\n",
       "\n",
       "    .dataframe tbody tr th {\n",
       "        vertical-align: top;\n",
       "    }\n",
       "\n",
       "    .dataframe thead th {\n",
       "        text-align: right;\n",
       "    }\n",
       "</style>\n",
       "<table border=\"1\" class=\"dataframe\">\n",
       "  <thead>\n",
       "    <tr style=\"text-align: right;\">\n",
       "      <th></th>\n",
       "      <th>AvgRate</th>\n",
       "      <th>PercPos</th>\n",
       "      <th>AvgCompound</th>\n",
       "      <th>Close</th>\n",
       "      <th>sales</th>\n",
       "    </tr>\n",
       "  </thead>\n",
       "  <tbody>\n",
       "    <tr>\n",
       "      <th>count</th>\n",
       "      <td>259.000000</td>\n",
       "      <td>259.000000</td>\n",
       "      <td>259.000000</td>\n",
       "      <td>259.000000</td>\n",
       "      <td>200.000000</td>\n",
       "    </tr>\n",
       "    <tr>\n",
       "      <th>mean</th>\n",
       "      <td>4.063096</td>\n",
       "      <td>0.734955</td>\n",
       "      <td>0.588666</td>\n",
       "      <td>99.848693</td>\n",
       "      <td>61024.950000</td>\n",
       "    </tr>\n",
       "    <tr>\n",
       "      <th>std</th>\n",
       "      <td>0.588925</td>\n",
       "      <td>0.120412</td>\n",
       "      <td>0.128290</td>\n",
       "      <td>30.535640</td>\n",
       "      <td>16007.373476</td>\n",
       "    </tr>\n",
       "    <tr>\n",
       "      <th>min</th>\n",
       "      <td>1.000000</td>\n",
       "      <td>0.000000</td>\n",
       "      <td>-0.270700</td>\n",
       "      <td>43.883810</td>\n",
       "      <td>0.000000</td>\n",
       "    </tr>\n",
       "    <tr>\n",
       "      <th>25%</th>\n",
       "      <td>3.751344</td>\n",
       "      <td>0.697857</td>\n",
       "      <td>0.537071</td>\n",
       "      <td>76.506191</td>\n",
       "      <td>49543.250000</td>\n",
       "    </tr>\n",
       "    <tr>\n",
       "      <th>50%</th>\n",
       "      <td>4.285714</td>\n",
       "      <td>0.729958</td>\n",
       "      <td>0.576787</td>\n",
       "      <td>103.166666</td>\n",
       "      <td>63021.000000</td>\n",
       "    </tr>\n",
       "    <tr>\n",
       "      <th>75%</th>\n",
       "      <td>4.511975</td>\n",
       "      <td>0.767055</td>\n",
       "      <td>0.625949</td>\n",
       "      <td>122.650878</td>\n",
       "      <td>71169.250000</td>\n",
       "    </tr>\n",
       "    <tr>\n",
       "      <th>max</th>\n",
       "      <td>5.000000</td>\n",
       "      <td>1.000000</td>\n",
       "      <td>0.992400</td>\n",
       "      <td>182.692501</td>\n",
       "      <td>126905.000000</td>\n",
       "    </tr>\n",
       "  </tbody>\n",
       "</table>\n",
       "</div>"
      ],
      "text/plain": [
       "          AvgRate     PercPos  AvgCompound       Close          sales\n",
       "count  259.000000  259.000000   259.000000  259.000000     200.000000\n",
       "mean     4.063096    0.734955     0.588666   99.848693   61024.950000\n",
       "std      0.588925    0.120412     0.128290   30.535640   16007.373476\n",
       "min      1.000000    0.000000    -0.270700   43.883810       0.000000\n",
       "25%      3.751344    0.697857     0.537071   76.506191   49543.250000\n",
       "50%      4.285714    0.729958     0.576787  103.166666   63021.000000\n",
       "75%      4.511975    0.767055     0.625949  122.650878   71169.250000\n",
       "max      5.000000    1.000000     0.992400  182.692501  126905.000000"
      ]
     },
     "execution_count": 24,
     "metadata": {},
     "output_type": "execute_result"
    }
   ],
   "source": [
    "toyota.describe()[['AvgRate','PercPos','AvgCompound','Close','sales']]"
   ]
  },
  {
   "cell_type": "code",
   "execution_count": null,
   "metadata": {},
   "outputs": [],
   "source": []
  }
 ],
 "metadata": {
  "interpreter": {
   "hash": "4c35da0af5d5a3bf76a37a4c3daa42db376832a21709549d6b8a3c5aa32743b7"
  },
  "kernelspec": {
   "display_name": "Python 3.8.8 64-bit ('base': conda)",
   "language": "python",
   "name": "python3"
  },
  "language_info": {
   "codemirror_mode": {
    "name": "ipython",
    "version": 3
   },
   "file_extension": ".py",
   "mimetype": "text/x-python",
   "name": "python",
   "nbconvert_exporter": "python",
   "pygments_lexer": "ipython3",
   "version": "3.8.8"
  },
  "orig_nbformat": 4
 },
 "nbformat": 4,
 "nbformat_minor": 2
}
