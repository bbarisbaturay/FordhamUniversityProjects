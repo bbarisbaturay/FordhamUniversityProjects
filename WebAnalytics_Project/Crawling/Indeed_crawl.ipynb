{
 "cells": [
  {
   "cell_type": "code",
   "execution_count": 15,
   "metadata": {},
   "outputs": [],
   "source": [
    "from bs4 import BeautifulSoup\n",
    "import pandas as pd\n",
    "import urllib.request\n",
    "import datetime"
   ]
  },
  {
   "cell_type": "code",
   "execution_count": 2,
   "metadata": {},
   "outputs": [],
   "source": [
    "num_of_reviews = 7500\n",
    "count = 0\n",
    "page = 0\n",
    "\n",
    "date = []\n",
    "review = []\n",
    "rating = []\n",
    "\n",
    "while num_of_reviews > count:\n",
    "    \n",
    "    error = True\n",
    "    while error:\n",
    "        try:\n",
    "            page +=1\n",
    "            url = 'https://www.indeed.com/cmp/Ford-Motor-Company/reviews?start={}'.format(page*10)\n",
    "            ourUrl = urllib.request.urlopen(url)\n",
    "            soup = BeautifulSoup(ourUrl,'html.parser')\n",
    "            error = False\n",
    "        except Exception:\n",
    "            error = True\n",
    "\n",
    "    for s1 in soup.find_all('div',{'data-tn-section':'reviews'}):\n",
    "        #rating\n",
    "        rating.append(int(str(s1.find('meta',{'itemprop':'ratingValue'}))[15]))\n",
    "\n",
    "        #review\n",
    "        review.append(s1.find('span',{'class':'css-82l4gy eu4oa1w0'}).text +' '+s1.find('span',{'class':'css-1cxc9zk e1wnkr790'}).text)\n",
    "\n",
    "        #date\n",
    "        date.append(s1.find('span',{'class':'css-xvmbeo e1wnkr790'}).text.split(\"-\")[-1][1:])\n",
    "\n",
    "        count +=1"
   ]
  },
  {
   "cell_type": "code",
   "execution_count": 33,
   "metadata": {},
   "outputs": [
    {
     "ename": "NameError",
     "evalue": "name 'df_FordRating' is not defined",
     "output_type": "error",
     "traceback": [
      "\u001b[1;31m---------------------------------------------------------------------------\u001b[0m",
      "\u001b[1;31mNameError\u001b[0m                                 Traceback (most recent call last)",
      "\u001b[1;32m<ipython-input-33-726e54c54105>\u001b[0m in \u001b[0;36m<module>\u001b[1;34m\u001b[0m\n\u001b[0;32m      1\u001b[0m \u001b[0mdf_Ford\u001b[0m \u001b[1;33m=\u001b[0m \u001b[0mpd\u001b[0m\u001b[1;33m.\u001b[0m\u001b[0mDataFrame\u001b[0m\u001b[1;33m(\u001b[0m\u001b[0mlist\u001b[0m\u001b[1;33m(\u001b[0m\u001b[0mzip\u001b[0m\u001b[1;33m(\u001b[0m\u001b[0mdate\u001b[0m\u001b[1;33m,\u001b[0m\u001b[0mrating\u001b[0m\u001b[1;33m,\u001b[0m\u001b[0mreview\u001b[0m\u001b[1;33m)\u001b[0m\u001b[1;33m)\u001b[0m\u001b[1;33m,\u001b[0m\u001b[0mcolumns\u001b[0m \u001b[1;33m=\u001b[0m \u001b[1;33m[\u001b[0m\u001b[1;34m'Date'\u001b[0m\u001b[1;33m,\u001b[0m\u001b[1;34m'Rating'\u001b[0m\u001b[1;33m,\u001b[0m\u001b[1;34m'ReviewText'\u001b[0m\u001b[1;33m]\u001b[0m\u001b[1;33m)\u001b[0m\u001b[1;33m\u001b[0m\u001b[1;33m\u001b[0m\u001b[0m\n\u001b[0;32m      2\u001b[0m \u001b[1;31m#df_Ford.to_csv(\"Indeed.csv\")\u001b[0m\u001b[1;33m\u001b[0m\u001b[1;33m\u001b[0m\u001b[1;33m\u001b[0m\u001b[0m\n\u001b[1;32m----> 3\u001b[1;33m \u001b[0mdf_FordRating\u001b[0m\u001b[1;33m.\u001b[0m\u001b[0mvalue_counts\u001b[0m\u001b[1;33m(\u001b[0m\u001b[1;33m)\u001b[0m\u001b[1;33m\u001b[0m\u001b[1;33m\u001b[0m\u001b[0m\n\u001b[0m",
      "\u001b[1;31mNameError\u001b[0m: name 'df_FordRating' is not defined"
     ]
    }
   ],
   "source": [
    "df_Ford = pd.DataFrame(list(zip(date,rating,review)),columns = ['Date','Rating','ReviewText'])\n",
    "#df_Ford.to_csv(\"Indeed.csv\")\n",
    "df_Ford.Rating.value_counts()"
   ]
  },
  {
   "cell_type": "code",
   "execution_count": 4,
   "metadata": {},
   "outputs": [],
   "source": [
    "num_of_reviews = 8300\n",
    "count = 0\n",
    "page = 0\n",
    "\n",
    "date = []\n",
    "review = []\n",
    "rating = []\n",
    "\n",
    "while num_of_reviews > count:\n",
    "    \n",
    "    error = True\n",
    "    while error:\n",
    "        try:\n",
    "            page +=1\n",
    "            url = 'https://www.indeed.com/cmp/Toyota/reviews?start={}'.format(page*10)\n",
    "            ourUrl = urllib.request.urlopen(url)\n",
    "            soup = BeautifulSoup(ourUrl,'html.parser')\n",
    "            error = False\n",
    "        except Exception:\n",
    "            error = True\n",
    "\n",
    "    for s1 in soup.find_all('div',{'data-tn-section':'reviews'}):\n",
    "        #rating\n",
    "        rating.append(int(str(s1.find('meta',{'itemprop':'ratingValue'}))[15]))\n",
    "\n",
    "        #review\n",
    "        review.append(s1.find('span',{'class':'css-82l4gy eu4oa1w0'}).text +' '+s1.find('span',{'class':'css-1cxc9zk e1wnkr790'}).text)\n",
    "\n",
    "        #date\n",
    "        date.append(s1.find('span',{'class':'css-xvmbeo e1wnkr790'}).text.split(\"-\")[-1][1:])\n",
    "\n",
    "        count +=1"
   ]
  },
  {
   "cell_type": "code",
   "execution_count": 5,
   "metadata": {},
   "outputs": [
    {
     "data": {
      "text/html": [
       "<div>\n",
       "<style scoped>\n",
       "    .dataframe tbody tr th:only-of-type {\n",
       "        vertical-align: middle;\n",
       "    }\n",
       "\n",
       "    .dataframe tbody tr th {\n",
       "        vertical-align: top;\n",
       "    }\n",
       "\n",
       "    .dataframe thead th {\n",
       "        text-align: right;\n",
       "    }\n",
       "</style>\n",
       "<table border=\"1\" class=\"dataframe\">\n",
       "  <thead>\n",
       "    <tr style=\"text-align: right;\">\n",
       "      <th></th>\n",
       "      <th>Date</th>\n",
       "      <th>Rating</th>\n",
       "      <th>ReviewText</th>\n",
       "    </tr>\n",
       "  </thead>\n",
       "  <tbody>\n",
       "    <tr>\n",
       "      <th>0</th>\n",
       "      <td>November 17, 2020</td>\n",
       "      <td>5</td>\n",
       "      <td>Awesome workplace  I enjoy my job at Toyota. I...</td>\n",
       "    </tr>\n",
       "    <tr>\n",
       "      <th>1</th>\n",
       "      <td>December 1, 2021</td>\n",
       "      <td>3</td>\n",
       "      <td>Good company but not great Good company but it...</td>\n",
       "    </tr>\n",
       "    <tr>\n",
       "      <th>2</th>\n",
       "      <td>November 23, 2021</td>\n",
       "      <td>3</td>\n",
       "      <td>Decent opportunities, very set in their ways. ...</td>\n",
       "    </tr>\n",
       "    <tr>\n",
       "      <th>3</th>\n",
       "      <td>November 20, 2021</td>\n",
       "      <td>5</td>\n",
       "      <td>Finance manager Great company actually in my 2...</td>\n",
       "    </tr>\n",
       "    <tr>\n",
       "      <th>4</th>\n",
       "      <td>November 20, 2021</td>\n",
       "      <td>4</td>\n",
       "      <td>Schedule There is a rotating schedule. You wil...</td>\n",
       "    </tr>\n",
       "    <tr>\n",
       "      <th>...</th>\n",
       "      <td>...</td>\n",
       "      <td>...</td>\n",
       "      <td>...</td>\n",
       "    </tr>\n",
       "    <tr>\n",
       "      <th>8311</th>\n",
       "      <td>February 10, 2013</td>\n",
       "      <td>4</td>\n",
       "      <td>non challenging workplace with tedious job fun...</td>\n",
       "    </tr>\n",
       "    <tr>\n",
       "      <th>8312</th>\n",
       "      <td>February 9, 2013</td>\n",
       "      <td>5</td>\n",
       "      <td>Productive and fun workplace Worked on the ass...</td>\n",
       "    </tr>\n",
       "    <tr>\n",
       "      <th>8313</th>\n",
       "      <td>February 8, 2013</td>\n",
       "      <td>4</td>\n",
       "      <td>Laid back work place Great co-workers. All of ...</td>\n",
       "    </tr>\n",
       "    <tr>\n",
       "      <th>8314</th>\n",
       "      <td>February 6, 2013</td>\n",
       "      <td>4</td>\n",
       "      <td>Easy and fun It's a very fast working place, I...</td>\n",
       "    </tr>\n",
       "    <tr>\n",
       "      <th>8315</th>\n",
       "      <td>February 6, 2013</td>\n",
       "      <td>5</td>\n",
       "      <td>Solid company with excellent benefits and room...</td>\n",
       "    </tr>\n",
       "  </tbody>\n",
       "</table>\n",
       "<p>8316 rows × 3 columns</p>\n",
       "</div>"
      ],
      "text/plain": [
       "                   Date  Rating  \\\n",
       "0     November 17, 2020       5   \n",
       "1      December 1, 2021       3   \n",
       "2     November 23, 2021       3   \n",
       "3     November 20, 2021       5   \n",
       "4     November 20, 2021       4   \n",
       "...                 ...     ...   \n",
       "8311  February 10, 2013       4   \n",
       "8312   February 9, 2013       5   \n",
       "8313   February 8, 2013       4   \n",
       "8314   February 6, 2013       4   \n",
       "8315   February 6, 2013       5   \n",
       "\n",
       "                                             ReviewText  \n",
       "0     Awesome workplace  I enjoy my job at Toyota. I...  \n",
       "1     Good company but not great Good company but it...  \n",
       "2     Decent opportunities, very set in their ways. ...  \n",
       "3     Finance manager Great company actually in my 2...  \n",
       "4     Schedule There is a rotating schedule. You wil...  \n",
       "...                                                 ...  \n",
       "8311  non challenging workplace with tedious job fun...  \n",
       "8312  Productive and fun workplace Worked on the ass...  \n",
       "8313  Laid back work place Great co-workers. All of ...  \n",
       "8314  Easy and fun It's a very fast working place, I...  \n",
       "8315  Solid company with excellent benefits and room...  \n",
       "\n",
       "[8316 rows x 3 columns]"
      ]
     },
     "execution_count": 5,
     "metadata": {},
     "output_type": "execute_result"
    }
   ],
   "source": [
    "df_Toyota = pd.DataFrame(list(zip(date,rating,review)),columns = ['Date','Rating','ReviewText'])\n",
    "df_Toyota"
   ]
  },
  {
   "cell_type": "code",
   "execution_count": 6,
   "metadata": {},
   "outputs": [],
   "source": [
    "df_Ford.to_csv(\"IndeedFord.csv\")\n",
    "df_Toyota.to_csv('IndeedToyota.csv')"
   ]
  },
  {
   "cell_type": "code",
   "execution_count": 13,
   "metadata": {},
   "outputs": [
    {
     "data": {
      "text/plain": [
       "0       November 17, 2020\n",
       "1        December 1, 2021\n",
       "2       November 23, 2021\n",
       "3       November 20, 2021\n",
       "4       November 20, 2021\n",
       "              ...        \n",
       "8311    February 10, 2013\n",
       "8312     February 9, 2013\n",
       "8313     February 8, 2013\n",
       "8314     February 6, 2013\n",
       "8315     February 6, 2013\n",
       "Name: Date, Length: 8316, dtype: object"
      ]
     },
     "execution_count": 13,
     "metadata": {},
     "output_type": "execute_result"
    }
   ],
   "source": [
    "df_Toyota['Date']"
   ]
  },
  {
   "cell_type": "code",
   "execution_count": 17,
   "metadata": {},
   "outputs": [],
   "source": [
    "df_Toyota.Date = df_Toyota.Date.apply(lambda x: datetime.datetime.strptime(x, \"%B %d, %Y\") )"
   ]
  },
  {
   "cell_type": "code",
   "execution_count": 25,
   "metadata": {},
   "outputs": [],
   "source": [
    "every = pd.read_csv('EveryAutoFord.csv')"
   ]
  },
  {
   "cell_type": "code",
   "execution_count": 26,
   "metadata": {},
   "outputs": [],
   "source": [
    "every.drop(columns= every.columns[0],inplace=True)"
   ]
  },
  {
   "cell_type": "code",
   "execution_count": 28,
   "metadata": {},
   "outputs": [],
   "source": [
    "every.Date = every.Date.apply(lambda x: datetime.datetime.strptime(x, \"%Y-%m-%d\"))"
   ]
  },
  {
   "cell_type": "code",
   "execution_count": 31,
   "metadata": {},
   "outputs": [
    {
     "data": {
      "text/plain": [
       "Timestamp('2021-09-15 00:00:00')"
      ]
     },
     "execution_count": 31,
     "metadata": {},
     "output_type": "execute_result"
    }
   ],
   "source": [
    "every.Date[1]"
   ]
  },
  {
   "cell_type": "code",
   "execution_count": 38,
   "metadata": {},
   "outputs": [
    {
     "data": {
      "text/html": [
       "<div>\n",
       "<style scoped>\n",
       "    .dataframe tbody tr th:only-of-type {\n",
       "        vertical-align: middle;\n",
       "    }\n",
       "\n",
       "    .dataframe tbody tr th {\n",
       "        vertical-align: top;\n",
       "    }\n",
       "\n",
       "    .dataframe thead th {\n",
       "        text-align: right;\n",
       "    }\n",
       "</style>\n",
       "<table border=\"1\" class=\"dataframe\">\n",
       "  <thead>\n",
       "    <tr style=\"text-align: right;\">\n",
       "      <th></th>\n",
       "      <th>Date</th>\n",
       "      <th>Rating</th>\n",
       "      <th>ReviewText</th>\n",
       "    </tr>\n",
       "  </thead>\n",
       "  <tbody>\n",
       "    <tr>\n",
       "      <th>8315</th>\n",
       "      <td>2013-02-06</td>\n",
       "      <td>5</td>\n",
       "      <td>Solid company with excellent benefits and room...</td>\n",
       "    </tr>\n",
       "    <tr>\n",
       "      <th>8314</th>\n",
       "      <td>2013-02-06</td>\n",
       "      <td>4</td>\n",
       "      <td>Easy and fun It's a very fast working place, I...</td>\n",
       "    </tr>\n",
       "    <tr>\n",
       "      <th>8313</th>\n",
       "      <td>2013-02-08</td>\n",
       "      <td>4</td>\n",
       "      <td>Laid back work place Great co-workers. All of ...</td>\n",
       "    </tr>\n",
       "    <tr>\n",
       "      <th>8312</th>\n",
       "      <td>2013-02-09</td>\n",
       "      <td>5</td>\n",
       "      <td>Productive and fun workplace Worked on the ass...</td>\n",
       "    </tr>\n",
       "    <tr>\n",
       "      <th>8311</th>\n",
       "      <td>2013-02-10</td>\n",
       "      <td>4</td>\n",
       "      <td>non challenging workplace with tedious job fun...</td>\n",
       "    </tr>\n",
       "    <tr>\n",
       "      <th>...</th>\n",
       "      <td>...</td>\n",
       "      <td>...</td>\n",
       "      <td>...</td>\n",
       "    </tr>\n",
       "    <tr>\n",
       "      <th>5</th>\n",
       "      <td>2021-11-20</td>\n",
       "      <td>2</td>\n",
       "      <td>Could be better Pay could definitely be better...</td>\n",
       "    </tr>\n",
       "    <tr>\n",
       "      <th>4</th>\n",
       "      <td>2021-11-20</td>\n",
       "      <td>4</td>\n",
       "      <td>Schedule There is a rotating schedule. You wil...</td>\n",
       "    </tr>\n",
       "    <tr>\n",
       "      <th>3</th>\n",
       "      <td>2021-11-20</td>\n",
       "      <td>5</td>\n",
       "      <td>Finance manager Great company actually in my 2...</td>\n",
       "    </tr>\n",
       "    <tr>\n",
       "      <th>2</th>\n",
       "      <td>2021-11-23</td>\n",
       "      <td>3</td>\n",
       "      <td>Decent opportunities, very set in their ways. ...</td>\n",
       "    </tr>\n",
       "    <tr>\n",
       "      <th>1</th>\n",
       "      <td>2021-12-01</td>\n",
       "      <td>3</td>\n",
       "      <td>Good company but not great Good company but it...</td>\n",
       "    </tr>\n",
       "  </tbody>\n",
       "</table>\n",
       "<p>8316 rows × 3 columns</p>\n",
       "</div>"
      ],
      "text/plain": [
       "           Date  Rating                                         ReviewText\n",
       "8315 2013-02-06       5  Solid company with excellent benefits and room...\n",
       "8314 2013-02-06       4  Easy and fun It's a very fast working place, I...\n",
       "8313 2013-02-08       4  Laid back work place Great co-workers. All of ...\n",
       "8312 2013-02-09       5  Productive and fun workplace Worked on the ass...\n",
       "8311 2013-02-10       4  non challenging workplace with tedious job fun...\n",
       "...         ...     ...                                                ...\n",
       "5    2021-11-20       2  Could be better Pay could definitely be better...\n",
       "4    2021-11-20       4  Schedule There is a rotating schedule. You wil...\n",
       "3    2021-11-20       5  Finance manager Great company actually in my 2...\n",
       "2    2021-11-23       3  Decent opportunities, very set in their ways. ...\n",
       "1    2021-12-01       3  Good company but not great Good company but it...\n",
       "\n",
       "[8316 rows x 3 columns]"
      ]
     },
     "execution_count": 38,
     "metadata": {},
     "output_type": "execute_result"
    }
   ],
   "source": [
    "df_Toyota.sort_values('Date')"
   ]
  },
  {
   "cell_type": "code",
   "execution_count": null,
   "metadata": {},
   "outputs": [],
   "source": []
  }
 ],
 "metadata": {
  "interpreter": {
   "hash": "4c35da0af5d5a3bf76a37a4c3daa42db376832a21709549d6b8a3c5aa32743b7"
  },
  "kernelspec": {
   "display_name": "Python 3.8.8 64-bit ('base': conda)",
   "language": "python",
   "name": "python3"
  },
  "language_info": {
   "codemirror_mode": {
    "name": "ipython",
    "version": 3
   },
   "file_extension": ".py",
   "mimetype": "text/x-python",
   "name": "python",
   "nbconvert_exporter": "python",
   "pygments_lexer": "ipython3",
   "version": "3.8.8"
  },
  "orig_nbformat": 4
 },
 "nbformat": 4,
 "nbformat_minor": 2
}
